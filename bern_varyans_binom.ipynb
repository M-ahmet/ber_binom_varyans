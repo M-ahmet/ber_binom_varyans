{
 "cells": [
  {
   "cell_type": "markdown",
   "metadata": {},
   "source": [
    "<a href=\"https://colab.research.google.com/github/googlecolab/colabtools/blob/master/notebooks/colab-github-demo.ipynb\">\n",
    "  <img src=\"https://colab.research.google.com/assets/colab-badge.svg\" alt=\"Open In Colab\"/>\n",
    "</a>"
   ]
  },
  {
   "cell_type": "markdown",
   "metadata": {},
   "source": [
    "#### Binom dağılımı\n",
    "Bir öğrenci 5 şıklı 10 sorulu bir sıvanda soruları rasgele cevaplıyor 10 sorudan 3'unü doğru yapma olasılığı nedir.\n",
    "\n",
    "P = soruyu yapma olasılığı tek bir soruyu doğru yapma olasılığı = 1/5\n",
    "Soruyu yanlış yapma olasılığı = 1-p\n"
   ]
  },
  {
   "cell_type": "code",
   "execution_count": 51,
   "metadata": {},
   "outputs": [],
   "source": [
    "import math\n",
    "\n",
    "p= 1/5\n",
    "py = 1-(1//5)\n",
    "\n",
    "dogru = (0.2)**3\n",
    "yanlis = (0.8)**7\n",
    "\n"
   ]
  },
  {
   "cell_type": "markdown",
   "metadata": {},
   "source": [
    "10 sorudan 3 doğru yapma olasılığı"
   ]
  },
  {
   "cell_type": "markdown",
   "metadata": {},
   "source": [
    "d d d, y,y,y,y,y,y,y bağımsı olay\n",
    "\n",
    "her bir seçim için olasılık"
   ]
  },
  {
   "cell_type": "code",
   "execution_count": 64,
   "metadata": {},
   "outputs": [
    {
     "name": "stdout",
     "output_type": "stream",
     "text": [
      "0.001677721600000001\n"
     ]
    }
   ],
   "source": [
    "dy_ihtimal =  (0.2)**3 *((0.8)**7)\n",
    "print(float(dy_ihtimal))"
   ]
  },
  {
   "cell_type": "code",
   "execution_count": 53,
   "metadata": {},
   "outputs": [],
   "source": [
    "from itertools import combinations "
   ]
  },
  {
   "cell_type": "code",
   "execution_count": 106,
   "metadata": {},
   "outputs": [],
   "source": [
    "#10'un 3 lü ihtimalleri"
   ]
  },
  {
   "cell_type": "code",
   "execution_count": 55,
   "metadata": {},
   "outputs": [
    {
     "name": "stdout",
     "output_type": "stream",
     "text": [
      "[(0, 1, 2), (0, 1, 3), (0, 1, 4), (0, 1, 5), (0, 1, 6), (0, 1, 7), (0, 1, 8), (0, 1, 9), (0, 2, 3), (0, 2, 4), (0, 2, 5), (0, 2, 6), (0, 2, 7), (0, 2, 8), (0, 2, 9), (0, 3, 4), (0, 3, 5), (0, 3, 6), (0, 3, 7), (0, 3, 8), (0, 3, 9), (0, 4, 5), (0, 4, 6), (0, 4, 7), (0, 4, 8), (0, 4, 9), (0, 5, 6), (0, 5, 7), (0, 5, 8), (0, 5, 9), (0, 6, 7), (0, 6, 8), (0, 6, 9), (0, 7, 8), (0, 7, 9), (0, 8, 9), (1, 2, 3), (1, 2, 4), (1, 2, 5), (1, 2, 6), (1, 2, 7), (1, 2, 8), (1, 2, 9), (1, 3, 4), (1, 3, 5), (1, 3, 6), (1, 3, 7), (1, 3, 8), (1, 3, 9), (1, 4, 5), (1, 4, 6), (1, 4, 7), (1, 4, 8), (1, 4, 9), (1, 5, 6), (1, 5, 7), (1, 5, 8), (1, 5, 9), (1, 6, 7), (1, 6, 8), (1, 6, 9), (1, 7, 8), (1, 7, 9), (1, 8, 9), (2, 3, 4), (2, 3, 5), (2, 3, 6), (2, 3, 7), (2, 3, 8), (2, 3, 9), (2, 4, 5), (2, 4, 6), (2, 4, 7), (2, 4, 8), (2, 4, 9), (2, 5, 6), (2, 5, 7), (2, 5, 8), (2, 5, 9), (2, 6, 7), (2, 6, 8), (2, 6, 9), (2, 7, 8), (2, 7, 9), (2, 8, 9), (3, 4, 5), (3, 4, 6), (3, 4, 7), (3, 4, 8), (3, 4, 9), (3, 5, 6), (3, 5, 7), (3, 5, 8), (3, 5, 9), (3, 6, 7), (3, 6, 8), (3, 6, 9), (3, 7, 8), (3, 7, 9), (3, 8, 9), (4, 5, 6), (4, 5, 7), (4, 5, 8), (4, 5, 9), (4, 6, 7), (4, 6, 8), (4, 6, 9), (4, 7, 8), (4, 7, 9), (4, 8, 9), (5, 6, 7), (5, 6, 8), (5, 6, 9), (5, 7, 8), (5, 7, 9), (5, 8, 9), (6, 7, 8), (6, 7, 9), (6, 8, 9), (7, 8, 9)]\n"
     ]
    }
   ],
   "source": [
    "com = combinations(((range(10))),3)\n",
    "print(list(com))"
   ]
  },
  {
   "cell_type": "code",
   "execution_count": 85,
   "metadata": {},
   "outputs": [
    {
     "name": "stdout",
     "output_type": "stream",
     "text": [
      "120\n"
     ]
    }
   ],
   "source": [
    "com = combinations(((range(10))),3)\n",
    "aa=(list(com))\n",
    "bb = (len(aa))\n",
    "print(bb)"
   ]
  },
  {
   "cell_type": "code",
   "execution_count": 88,
   "metadata": {},
   "outputs": [
    {
     "name": "stdout",
     "output_type": "stream",
     "text": [
      "0.2013265920000001\n"
     ]
    }
   ],
   "source": [
    "sonuc = float(dy_ihtimal)* bb\n",
    "print(sonuc)"
   ]
  },
  {
   "cell_type": "markdown",
   "metadata": {},
   "source": [
    "#### Bernoulli Dağılımında Ortalama ve Varyans\n",
    "\n",
    "okunan bir kitabın yorumları olumlu ve olumsuz(keksikli dağılım)\n",
    "olumlu = 60 --> 1\n",
    "olumsuz = 40 --> 0\n",
    "\n",
    "Secilen bir kişin olumlu yorum yapma olasılığı nedir.\n"
   ]
  },
  {
   "cell_type": "code",
   "execution_count": 101,
   "metadata": {},
   "outputs": [
    {
     "name": "stdout",
     "output_type": "stream",
     "text": [
      "0.24\n"
     ]
    }
   ],
   "source": [
    "u = (0.4 * 0 )+(0.6 * 1)##100 kişiden 60 evet demiş\n",
    "## varyans = aritmetik ortalama veya beklenen değerden-->\n",
    "##uzaklıklaırnın karelerinin ağırlıklı ortamalamalarıdır.\n",
    "v = (.4*((0-0.6)**2)) + (.6*((1-.6)**2))\n",
    "print(v)"
   ]
  },
  {
   "cell_type": "code",
   "execution_count": 105,
   "metadata": {},
   "outputs": [
    {
     "name": "stdout",
     "output_type": "stream",
     "text": [
      "0.4898979485566356\n"
     ]
    }
   ],
   "source": [
    "import math\n",
    "#standanr sampma varyansın karekökü\n",
    "v_kare= math.sqrt(v)\n",
    "print(v_kare)"
   ]
  },
  {
   "cell_type": "markdown",
   "metadata": {},
   "source": [
    "### bernolli örnek uzay dernotları\n",
    "10 kutu ilaç 5 kutu aspitin 3 kutu alınıyor 2 kutunun aspirin\n",
    "olma olasılığı nedir.\n",
    "k :alınan iki kutunun aspitin olam olasılığı \n",
    "10 kutu 5 aspirin asprin olamsı = 5/ 10 = 0.5"
   ]
  },
  {
   "cell_type": "code",
   "execution_count": 142,
   "metadata": {},
   "outputs": [
    {
     "name": "stdout",
     "output_type": "stream",
     "text": [
      "Kutu sayısını giriniz :8\n",
      "Aspirin kutu sayısı :5\n",
      "1.6\n"
     ]
    }
   ],
   "source": [
    "kutu = int(input(\"Kutu sayısını giriniz :\"))\n",
    "aspirin = int(input(\"Aspirin kutu sayısı :\"))\n",
    "p = kutu/aspirin\n",
    "print(p)\n",
    "\n",
    "def rSubset(arr, r): \n",
    "    dene = (list(combinations(arr, r))) \n",
    "    sonuc = dene* (p**2)*(1-p)^(dene-r)\n",
    "    return sonuc"
   ]
  },
  {
   "cell_type": "code",
   "execution_count": 143,
   "metadata": {},
   "outputs": [
    {
     "name": "stdout",
     "output_type": "stream",
     "text": [
      "0.2013265920000001\n"
     ]
    }
   ],
   "source": [
    "print(sonuc)"
   ]
  },
  {
   "cell_type": "code",
   "execution_count": 126,
   "metadata": {},
   "outputs": [],
   "source": [
    "  "
   ]
  },
  {
   "cell_type": "code",
   "execution_count": null,
   "metadata": {},
   "outputs": [],
   "source": []
  },
  {
   "cell_type": "code",
   "execution_count": null,
   "metadata": {},
   "outputs": [],
   "source": []
  }
 ],
 "metadata": {
  "kernelspec": {
   "display_name": "Python 3",
   "language": "python",
   "name": "python3"
  },
  "language_info": {
   "codemirror_mode": {
    "name": "ipython",
    "version": 3
   },
   "file_extension": ".py",
   "mimetype": "text/x-python",
   "name": "python",
   "nbconvert_exporter": "python",
   "pygments_lexer": "ipython3",
   "version": "3.7.3"
  }
 },
 "nbformat": 4,
 "nbformat_minor": 2
}
